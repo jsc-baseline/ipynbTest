{
 "cells": [
  {
   "cell_type": "markdown",
   "metadata": {},
   "source": [
    "## L17.1 post video quiz (5 pts)\n",
    "\n",
    "Comment all of the code in this lecture video (shown below)."
   ]
  },
  {
   "cell_type": "code",
   "execution_count": null,
   "metadata": {},
   "outputs": [],
   "source": [
    "def Puzzle1():\n",
    "    mat = ( (-1,-1,7,9,6,2,4,-1,-1),\n",
    "        (9,-1,-1,-1,1,-1,-1,-1,2),\n",
    "        (-1,1,-1,8,5,3,-1,6,-1),\n",
    "        (5,-1,-1,4,7,9,-1,-1,1),\n",
    "        (-1,-1,-1,-1,8,-1,-1,-1,-1),\n",
    "        (4,-1,-1,3,2,1,-1,-1,7),\n",
    "        (-1,9,-1,2,4,8,-1,5,-1),\n",
    "        (6,-1,-1,-1,3,-1,-1,-1,8),\n",
    "        (-1,-1,8,6,9,5,1,-1,-1) )\n",
    "    return mat\n"
   ]
  },
  {
   "cell_type": "code",
   "execution_count": null,
   "metadata": {},
   "outputs": [],
   "source": [
    "def ConvertMat( mat ):\n",
    "    dct = {}\n",
    "    k = 0\n",
    "    for i in range(len(mat)):\n",
    "        for j in range(len(mat[i])):\n",
    "            if mat[i][j] == -1:\n",
    "                box = [-1,[1,2,3,4,5,6,7,8,9]]\n",
    "            else:\n",
    "                box = [mat[i][j],[]]\n",
    "            dct[k] = box\n",
    "            k += 1\n",
    "    return dct\n"
   ]
  },
  {
   "cell_type": "code",
   "execution_count": null,
   "metadata": {},
   "outputs": [],
   "source": [
    "def Architecture1():\n",
    "    groups = []\n",
    "    n = (0,1,2,3,4,5,6,7,8)\n",
    "    for i in range( 9 ):\n",
    "        groups.append( list(map(lambda x: x+i*9,n)) )\n",
    "    for i in range(9):\n",
    "        groups.append(list(map(lambda x: x*9+i,n)) )\n",
    "    n = (0,1,2,9,10,11,18,19,20)\n",
    "    for i in (0,27,54):\n",
    "        for j in (0,3,6):\n",
    "            groups.append(list(map(lambda x:x+i+j, n)))\n",
    "    return groups\n"
   ]
  },
  {
   "cell_type": "markdown",
   "metadata": {},
   "source": [
    "## L17.2  Q1 post video quiz (5 pts)\n",
    "\n",
    "Comment all of the code in this lecture video (shown below)."
   ]
  },
  {
   "cell_type": "code",
   "execution_count": null,
   "metadata": {},
   "outputs": [],
   "source": [
    "def AnswersInGroup( dct, groupsi ):\n",
    "    ans = []\n",
    "    for i in groupsi:\n",
    "        if dct[i][0] != -1:\n",
    "            ans.append( dct[i][0] )\n",
    "    return ans\n"
   ]
  },
  {
   "cell_type": "code",
   "execution_count": null,
   "metadata": {},
   "outputs": [],
   "source": [
    "def RemovalInAllGroups( dct, groups ):\n",
    "    for g in groups:\n",
    "        aig = AnswersInGroup(dct,g)\n",
    "        RemovalInGroup(aig,dct,g)\n",
    "        "
   ]
  },
  {
   "cell_type": "code",
   "execution_count": null,
   "metadata": {},
   "outputs": [],
   "source": [
    "def FindSolos(dct):\n",
    "    ct = 0\n",
    "    for i in dct.keys():\n",
    "        if dct[i][0]==-1 and len(dct[i][1])==1:\n",
    "            ct += 1\n",
    "            dct[i][0] = dct[i][1].pop(0)\n",
    "    return ct  # if 0 then there were no changes\n"
   ]
  },
  {
   "cell_type": "code",
   "execution_count": null,
   "metadata": {},
   "outputs": [],
   "source": [
    "def EndGame(dct):\n",
    "    answ = 0\n",
    "    for k in dct.keys():\n",
    "        if dct[k][0] == -1:\n",
    "            answ +=1\n",
    "    return answ\n"
   ]
  },
  {
   "cell_type": "markdown",
   "metadata": {},
   "source": [
    "## L17.2  Q2 post video quiz (10 pts)\n",
    "\n",
    "Run the entire sudoku.py script, provided in the learning module, and show the solution obtained. Remember that sudoku.py is a module that you have to import. I added the first few steps to get you started."
   ]
  },
  {
   "cell_type": "code",
   "execution_count": null,
   "metadata": {},
   "outputs": [],
   "source": [
    "import sudoku"
   ]
  },
  {
   "cell_type": "code",
   "execution_count": null,
   "metadata": {},
   "outputs": [],
   "source": [
    "# get Puzzle1 grid and groups\n",
    "grid, groups = sudoku.Puzzle1()\n",
    "# Create dictionary\n",
    "dct = sudoku.ConvertMat( grid )\n"
   ]
  },
  {
   "cell_type": "code",
   "execution_count": null,
   "metadata": {},
   "outputs": [],
   "source": [
    "# Given the above, your task is to run the commands specified in the video \n",
    "# Print puzzle state (use code in video) and stop when puzzle is solved (or not!). Also take note number of iterations.\n"
   ]
  },
  {
   "cell_type": "code",
   "execution_count": null,
   "metadata": {},
   "outputs": [],
   "source": [
    "# How many iterations did it take to solve (or not) Puzzle1?\n"
   ]
  },
  {
   "cell_type": "code",
   "execution_count": null,
   "metadata": {},
   "outputs": [],
   "source": [
    "# Repeat for Puzzle2 and Puzzle3\n",
    "# How many iterations did it take to solve (or not) Puzzle2?\n",
    "# How many iterations did it take to solve (or not) Puzzle3?"
   ]
  }
 ],
 "metadata": {
  "kernelspec": {
   "display_name": "Python 3",
   "language": "python",
   "name": "python3"
  },
  "language_info": {
   "codemirror_mode": {
    "name": "ipython",
    "version": 3
   },
   "file_extension": ".py",
   "mimetype": "text/x-python",
   "name": "python",
   "nbconvert_exporter": "python",
   "pygments_lexer": "ipython3",
   "version": "3.6.3"
  }
 },
 "nbformat": 4,
 "nbformat_minor": 2
}
