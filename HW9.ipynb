{
 "cells": [
  {
   "cell_type": "markdown",
   "metadata": {},
   "source": [
    "# HOMEWORK 9 (40 pts)\n",
    "\n",
    "All __questions__ can be resolved in __one line__ of Python code. Sometimes you may need an additional call to print() to verify your results. \n",
    "\n",
    "All __problems__ can be resolved in a few lines of code.\n",
    "\n",
    "When you are done, please rename the notebook (use \"Make a Copy...\" from the drop down menu) and name it using the following format: \n",
    "\n",
    "__homework9_yourlastname__ \n",
    "\n",
    "then submit the copy instead.\n"
   ]
  },
  {
   "cell_type": "code",
   "execution_count": 1,
   "metadata": {},
   "outputs": [],
   "source": [
    "# Numpy setup\n",
    "import numpy as np\n",
    "np.set_printoptions(precision=3)"
   ]
  },
  {
   "cell_type": "markdown",
   "metadata": {},
   "source": [
    "### Post-video questions (1 pt each)"
   ]
  },
  {
   "cell_type": "code",
   "execution_count": 3,
   "metadata": {},
   "outputs": [],
   "source": [
    "# Given\n",
    "np.random.seed( 23 )\n",
    "mat = np.random.ranf((5,6))"
   ]
  },
  {
   "cell_type": "markdown",
   "metadata": {},
   "source": [
    "#### Q1 Print the second column of data to the console."
   ]
  },
  {
   "cell_type": "code",
   "execution_count": null,
   "metadata": {},
   "outputs": [],
   "source": []
  },
  {
   "cell_type": "markdown",
   "metadata": {},
   "source": [
    "#### Q2 Print the lower right 2Ã—2 portion of the matrix."
   ]
  },
  {
   "cell_type": "code",
   "execution_count": null,
   "metadata": {},
   "outputs": [],
   "source": []
  },
  {
   "cell_type": "markdown",
   "metadata": {},
   "source": [
    "#### Q3 Print the average of the entire matrix and the average of the columns. (Do not use _for_ or _while_ loops.)"
   ]
  },
  {
   "cell_type": "code",
   "execution_count": null,
   "metadata": {},
   "outputs": [],
   "source": []
  },
  {
   "cell_type": "markdown",
   "metadata": {},
   "source": [
    "Do the following using __numpy__. Do not use _for_ or _while_ loops.\n",
    "\n",
    "Hint: Explore the NumPy documentation to consider use of the function: â€œnp.arangeâ€.\n",
    "\n",
    "* Q4: Create a matrix of zeros that has 2 columns and 6 rows.\n",
    "* Q5: Fill the first column with (0,1,2,3,4,5)\n",
    "* Q6: The first column is associated with the value of $x$. Fill the second column with $y=x^2-x$\n"
   ]
  },
  {
   "cell_type": "code",
   "execution_count": null,
   "metadata": {},
   "outputs": [],
   "source": [
    "# Q4\n"
   ]
  },
  {
   "cell_type": "code",
   "execution_count": null,
   "metadata": {},
   "outputs": [],
   "source": [
    "# Q5\n"
   ]
  },
  {
   "cell_type": "code",
   "execution_count": null,
   "metadata": {},
   "outputs": [],
   "source": [
    "# Q6\n"
   ]
  },
  {
   "cell_type": "markdown",
   "metadata": {},
   "source": [
    "#### Q7 Use a single command to find all of the elements that are greater than 0.7"
   ]
  },
  {
   "cell_type": "code",
   "execution_count": null,
   "metadata": {},
   "outputs": [],
   "source": []
  },
  {
   "cell_type": "markdown",
   "metadata": {},
   "source": [
    "#### Q8 Use the results from the previous problem, and in a single command print out the values of the elements in the matrix that are above 0.7."
   ]
  },
  {
   "cell_type": "code",
   "execution_count": null,
   "metadata": {},
   "outputs": [],
   "source": []
  },
  {
   "cell_type": "markdown",
   "metadata": {},
   "source": [
    "#### Q9 In a single command, print the vertical and horizontal dimension of the matrix _mat_."
   ]
  },
  {
   "cell_type": "code",
   "execution_count": null,
   "metadata": {},
   "outputs": [],
   "source": []
  },
  {
   "cell_type": "markdown",
   "metadata": {},
   "source": [
    "## Problem 1 (3 pts)\n",
    "Create a vector of 10,000,000 random elements using a function from __numpy.random__. \n",
    "\n",
    "Compute the average of this vector using the __old-fashioned, slow, for loop method__. Show the code and the result."
   ]
  },
  {
   "cell_type": "code",
   "execution_count": null,
   "metadata": {},
   "outputs": [],
   "source": []
  },
  {
   "cell_type": "markdown",
   "metadata": {},
   "source": [
    "## Problem 2 (1 pts)\n",
    "\n",
    "Compute the average using a __numpy__ function. Show the code and the result."
   ]
  },
  {
   "cell_type": "code",
   "execution_count": null,
   "metadata": {},
   "outputs": [],
   "source": []
  },
  {
   "cell_type": "markdown",
   "metadata": {},
   "source": [
    "## Problem 3 (6 pts)\n",
    "\n",
    "The __time.time()__ function will return the current time in terms of seconds. It is possible to determine the __computational time__ of a process by capturing the time before and after the execution of the process. Write a Python script to compute the __computational time__ for the previous two problems. Do not get a new vector, and do not include the creation of the random vector in your timing.\n",
    "\n",
    "Compute the __ratio__ of the time to compute the average using Problem 1 to the time it took to compute the answer using the method in Problem 2. Show your codes, the times for each method, and the ratio."
   ]
  },
  {
   "cell_type": "code",
   "execution_count": null,
   "metadata": {},
   "outputs": [],
   "source": []
  },
  {
   "cell_type": "markdown",
   "metadata": {},
   "source": [
    "## Problem 4 (3 pts)\n",
    "\n",
    "Use the numpy random seed value of 23423. Create three random vectors, each of length 5. These are named $a$,$b$,and $c$. \n",
    "\n",
    "Compute $d=a+bÃ—c$. Show your code and all four vectors.\n"
   ]
  },
  {
   "cell_type": "code",
   "execution_count": null,
   "metadata": {},
   "outputs": [],
   "source": []
  },
  {
   "cell_type": "markdown",
   "metadata": {},
   "source": [
    "## Problem 5 (3 pts)\n",
    "\n",
    "Create a $5 Ã— 5$ matrix of random values. Use the seed of 453. Using the random slicing technique, write a Python command that retrieves values for the following locations in the matrix $(1,3)$, $(2,2)$, $(3,1)$."
   ]
  },
  {
   "cell_type": "code",
   "execution_count": null,
   "metadata": {},
   "outputs": [],
   "source": []
  },
  {
   "cell_type": "markdown",
   "metadata": {},
   "source": [
    "## Problem 6 (4 pts)\n",
    "\n",
    "Recall the equation used for an object falling under the influence of gravity,\n",
    "\n",
    "$$y_2 = y_1 + v_1 t + \\frac{1}{2} g t^2 $$\n",
    "\n",
    "Start with a height of $600$ m.  Your task is to compute the height of the object for ten different experiments.  The experiments differ in the amount of time the object drops: $t = ( 1, 2, 3, 4, 5, 6, 7, 8, 9, 10)$ all in seconds.  To compute the $y_2$ values for all experiments, use,\n",
    "\n",
    "$$\\vec y_2 = \\vec y_1 +  \\frac{1}{2} g {\\vec t}^2 $$\n",
    "\n",
    "Once the data variables are assigned, this computation can be done in one line of Python.  Show your code and the results.\n"
   ]
  },
  {
   "cell_type": "code",
   "execution_count": null,
   "metadata": {},
   "outputs": [],
   "source": []
  },
  {
   "cell_type": "markdown",
   "metadata": {},
   "source": [
    "## Problem 7 (6 pts)\n",
    "\n",
    "Recall the chaos equation: \n",
    "\n",
    "$$x_{n+1} = r x_n (1-x_n).$$\n",
    "\n",
    "\n",
    "Python does not offer tools to solve this equation efficiently because it is a recursive equation.  The answer to $x_n$ is needed before $x_{n+1}$ can be computed.  However, it is possible to use NumPy tools to efficiently calculate the results for several trials using different values of $r$.\n",
    "\n",
    "Create a vector $rvec$ which has the values $(2, 2.3, 2.8, 3, 3.3,, 4.0)$.  Create a matrix $mat$ which is $50 \\times 6$.  In a single command set the values of the top row of the matrix to 0.1. (This was the initial starting value of $x$.)  Each row in this matrix will be one iteration of the equation and each column is one trial.  Create a __for__ loop that spans the number of iterations (49).  Inside the __for__ loop there should be a single line that calculates the values for all trials in a single row. \n",
    "\n",
    "The first values in the first column correspond to the experiment when $r = 2.0$.  The $x$ value in this trial stabilizes at 0.5.  Thus, the last four values in the first column should be 0.5.  In a single Python command, print out the last for rows for all columns.  These values should match the results from the lecture.\n"
   ]
  },
  {
   "cell_type": "code",
   "execution_count": null,
   "metadata": {},
   "outputs": [],
   "source": []
  },
  {
   "cell_type": "markdown",
   "metadata": {},
   "source": [
    "## Problem 8 (6 pts)\n",
    "\n",
    "Consider the case in which the goal is to find a vector $\\vec h$ such that,\n",
    "$$\\vec h \\cdot \\vec x_i = 1.$$\n",
    "The $\\vec x_i$ represents a vector from a set of vectors.  The equations states that the dot product of the vector $\\vec h$ with _any_ of the $\\vec x$ vectors is 1.0.  The task of this assignment is to find $\\vec h$ for a given set of $\\vec x$ vectors.\n",
    "\n",
    "The solution starts with creating a matrix __X__ in which each of the columns is one of the $\\vec x$ vectors.  The code for generating this matrix is:\n",
    "```cython\n",
    "np.random.seed( 235 )\n",
    "X = np.random.ranf((10,3))\n",
    "```\n",
    "It can be shown that the equation to find $\\vec h$ is\n",
    "\n",
    "$$\\vec h = {\\bf X} \\left( {\\bf X}^T {\\bf X} \\right)^{-1} \\vec c$$\n",
    "\n",
    "or alternatively,\n",
    "\n",
    "$$\\vec h = \\left( {\\bf X}^T {\\bf X} \\right)^{-1} {\\bf X^T}  \\vec c$$\n",
    "\n",
    "\n",
    "The $X^T$ is the transpose, and the superscript -1 is the inverse and the vector $\\vec c = (1,1,1)$.  The length of $\\vec c$ is the same as the number of vectors used to make __X__.\n",
    "\n",
    "Write a Python script to compute $\\vec h$.  Show your codes and results.  Confirm your results by computing $\\vec h \\cdot \\vec x_i$ where $x_i$ is a column from __X__.  There are three columns in __X__, so you should confirm the $\\vec h$ for each column.\n"
   ]
  },
  {
   "cell_type": "code",
   "execution_count": null,
   "metadata": {},
   "outputs": [],
   "source": []
  }
 ],
 "metadata": {
  "kernelspec": {
   "display_name": "Python 3",
   "language": "python",
   "name": "python3"
  },
  "language_info": {
   "codemirror_mode": {
    "name": "ipython",
    "version": 3
   },
   "file_extension": ".py",
   "mimetype": "text/x-python",
   "name": "python",
   "nbconvert_exporter": "python",
   "pygments_lexer": "ipython3",
   "version": "3.6.3"
  }
 },
 "nbformat": 4,
 "nbformat_minor": 2
}
