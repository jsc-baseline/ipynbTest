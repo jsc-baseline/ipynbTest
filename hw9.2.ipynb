{
 "cells": [
  {
   "cell_type": "markdown",
   "metadata": {},
   "source": [
    "## Matrix multiplication in NumPy"
   ]
  },
  {
   "cell_type": "markdown",
   "metadata": {},
   "source": [
    "First of all note that the __matrix multiplication__ operation can be implemented in NumPy using the dot() function.\n",
    "\n",
    "The usual rule applies: Given two matrices A, B, if  matrix A has the dimensions m rows and n columns and matrix B has the dimensions n and k. Then the n columns in A and n rows of B must be equal. The computation C=A*B is a new matrix C with m rows and k columns.\n"
   ]
  },
  {
   "cell_type": "code",
   "execution_count": 24,
   "metadata": {},
   "outputs": [
    {
     "name": "stdout",
     "output_type": "stream",
     "text": [
      "shape A: (3, 2)\n",
      "[[1 2]\n",
      " [3 4]\n",
      " [5 6]]\n",
      "shape B: (2, 2)\n",
      "[[1 2]\n",
      " [3 4]]\n",
      "shape C: (3, 2)\n",
      "[[ 7 10]\n",
      " [15 22]\n",
      " [23 34]]\n"
     ]
    }
   ],
   "source": [
    "from numpy import array, shape, random, ones, linalg\n",
    "A = array([[1, 2], [3, 4], [5, 6]])\n",
    "print('shape A:',shape(A))\n",
    "print(A)\n",
    "B = array([[1, 2], [3, 4]])\n",
    "print('shape B:',shape(B))\n",
    "print(B)\n",
    "C = A.dot(B)  # Matrix  multiplication C=A*B\n",
    "print('shape C:',shape(C))\n",
    "print(C)"
   ]
  },
  {
   "cell_type": "markdown",
   "metadata": {},
   "source": [
    "## Matrix-vector multiplication in NumPy"
   ]
  },
  {
   "cell_type": "markdown",
   "metadata": {},
   "source": [
    "The __matrix-vector multiplication__ operation can be performed in NumPy using the dot() function as long as the rule of matrix multiplication is observed.\n",
    "\n",
    "Specifically, that the number of columns in the matrix must equal the number of items in the vector. As with matrix multiplication, the operation can be written using the dot notation. __Because the vector only has one column, the result is always a vector.__"
   ]
  },
  {
   "cell_type": "code",
   "execution_count": 25,
   "metadata": {},
   "outputs": [
    {
     "name": "stdout",
     "output_type": "stream",
     "text": [
      "shape A: (3, 2)\n",
      "[[1 2]\n",
      " [3 4]\n",
      " [5 6]]\n",
      "shape B: (2,)\n",
      "[0.5 0.5]\n",
      "shape C: (3,)\n",
      "[1.5 3.5 5.5]\n"
     ]
    }
   ],
   "source": [
    "A = array([[1, 2], [3, 4], [5, 6]])\n",
    "print('shape A:',shape(A))\n",
    "print(A)\n",
    "B = array([0.5, 0.5])\n",
    "print('shape B:',shape(B))\n",
    "print(B)\n",
    "C = A.dot(B)\n",
    "print('shape C:',shape(C))\n",
    "print(C)"
   ]
  },
  {
   "cell_type": "markdown",
   "metadata": {},
   "source": [
    "#### Consider the following operation\n",
    "\n",
    "$\\vec h = {\\bf X} \\left( {\\bf X}^T {\\bf X} \\right)^{-1} \\vec c$\n",
    "\n",
    "where ${\\bf X}$ is an $m \\times n$ matrix and $c$ is a $n \\times 1$ row vector. Then\n",
    "\n",
    "$ {\\bf A } = {\\bf X}^T {\\bf X}$ is a matrix multiplication where A is an $n \\times n$ matrix\n",
    "\n",
    "${\\bf B } = {\\bf X} \\left( {\\bf A} \\right)^{-1}$ is a matrix multiplication where B is a $m \\times n$ matrix\n",
    "\n",
    "${\\bf C } = {\\bf B} \\vec c$ is a matrix-vector multiplication where C is an $m \\times 1$ vector\n",
    "\n"
   ]
  },
  {
   "cell_type": "code",
   "execution_count": 26,
   "metadata": {},
   "outputs": [
    {
     "name": "stdout",
     "output_type": "stream",
     "text": [
      "(10, 3)\n",
      "(3,)\n"
     ]
    }
   ],
   "source": [
    "# So if,\n",
    "random.seed( 235 )\n",
    "X = random.ranf((10,3))\n",
    "c = ones(3)\n",
    "print(shape(X))\n",
    "print(shape(c))"
   ]
  },
  {
   "cell_type": "markdown",
   "metadata": {},
   "source": [
    "You can check that A, B, C have the shapes above."
   ]
  }
 ],
 "metadata": {
  "kernelspec": {
   "display_name": "Python 3",
   "language": "python",
   "name": "python3"
  },
  "language_info": {
   "codemirror_mode": {
    "name": "ipython",
    "version": 3
   },
   "file_extension": ".py",
   "mimetype": "text/x-python",
   "name": "python",
   "nbconvert_exporter": "python",
   "pygments_lexer": "ipython3",
   "version": "3.6.3"
  }
 },
 "nbformat": 4,
 "nbformat_minor": 2
}
