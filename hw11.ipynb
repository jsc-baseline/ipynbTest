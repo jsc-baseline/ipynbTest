"""
def promptFullName():
    usernname = input("enter full name: ");
    return username;
def main():
    promptFullName();
main();
"""


text = open("romeojuliet.txt").read();
gather = [];
lines = text.split('\n');
for n in lines:
    if (n.find("Romeo") != -1) and (n.find("Juliet") != -1):
        gather.append(n);
print(len(gather));
print(gather);

{
 "cells": [
  {
   "cell_type": "markdown",
   "metadata": {},
   "source": [
    "# HOMEWORK 11 (40 pts)\n",
    "\n",
    "Please read all problems carefully before attempting to solve them. Also, make sure you run your code before submitting.\n",
    "\n",
    "When you are done, please rename the notebook (use \"Make a Copy...\" from the drop down menu) and name it using the following format: \n",
    "\n",
    "__homework11_yourlastname__ \n",
    "\n",
    "then submit the copy instead."
   ]
  },
  {
   "cell_type": "markdown",
   "metadata": {},
   "source": [
    "## P1 (4 pts)"
   ]
  },
  {
   "cell_type": "markdown",
   "metadata": {},
   "source": [
    "Write a _username(first, last)_ function to return a computer system username given a personâ€™s first and last names. The username is made up of at most 12 characters of the last name, followed by the first initial of the first name, followed by a \"1\". Include a \"program\" to test your function. Your program - in the notebok - will consists of only three lines of code that\n",
    "\n",
    "1) prompt the user to enter someone's full name \n",
    "\n",
    "2) makes a call to _username_ \n",
    "\n",
    "3) prints the output from _username_. \n",
    "\n",
    "Test with \n",
    "\n",
    "1) Your name \n",
    "\n",
    "2) Hubert Wolfeschlegelstein"
   ]
  },
  {
   "cell_type": "code",
   "execution_count": null,
   "metadata": {},
   "outputs": [],
   "source": [
    "# Function:\n"
   ]
  },
  {
   "cell_type": "code",
   "execution_count": null,
   "metadata": {},
   "outputs": [],
   "source": [
    "# Program\n"
   ]
  },
  {
   "cell_type": "markdown",
   "metadata": {},
   "source": [
    "## P2 (4 pts)"
   ]
  },
  {
   "cell_type": "markdown",
   "metadata": {},
   "source": [
    "Load the romeojuliet.txt. This is the full play of Romeo and Juliet.\n",
    "\n",
    "__How many__ different lines in the play have __both__ words Romeo and Juliet in them? (Do not count the words in all capitals since these are not in the spoken lines.) \n",
    "\n",
    "Write a Python script that will find all of these lines and puts them in a list. \n",
    "\n",
    "Print out the length of this list and the list."
   ]
  },
  {
   "cell_type": "code",
   "execution_count": null,
   "metadata": {},
   "outputs": [],
   "source": []
  },
  {
   "cell_type": "markdown",
   "metadata": {},
   "source": [
    "## P3 (6 pts)"
   ]
  },
  {
   "cell_type": "markdown",
   "metadata": {},
   "source": [
    "Write a function __avg_word_length(filename)__ to return the average length of the words in the given file after punctuation is removed. What is the average word length in the file romeojuliet.txt?\n",
    "\n",
    "To remove punctuation you can use the following function:\n",
    "\n",
    "```cython\n",
    "    from string import punctuation\n",
    "    def remove_punctuation(s):\n",
    "        \"\"\"Return copy of s with punctuation removed.\"\"\" \n",
    "        for c in punctuation:\n",
    "            if c in s:\n",
    "                s = s.replace(c, \"\")\n",
    "        return s\n",
    "```\n",
    "Hint: First test __remove_punctuation()__ with a short sentence. Then you may want to test __avg_word_length()__ with a short string."
   ]
  },
  {
   "cell_type": "code",
   "execution_count": null,
   "metadata": {},
   "outputs": [],
   "source": [
    "# Functions:\n"
   ]
  },
  {
   "cell_type": "code",
   "execution_count": null,
   "metadata": {},
   "outputs": [],
   "source": [
    "# Test program\n"
   ]
  },
  {
   "cell_type": "markdown",
   "metadata": {},
   "source": [
    "## P4 (6 pts)\n",
    "\n",
    "The four bases that make up DNA are adenine (A), cytosine (C), guanine (G), and thymine (T). They occur in complementary pairs, A â†” T and C â†” G. The complement of a strand of DNA swaps each base with its complementary base. __For example: The complement of AGGTC is TCCAG__. It is the complement that forms the second strand in DNA because complementary pairs bind across from each other in base pairs to form the double helix.\n",
    "\n",
    "Write a function __complement()__ that takes in a DNA \"string\" and returns its _complement_. The output should contain only uppercase letters.\n",
    "\n",
    "Test with \n",
    "\n",
    "1) ATCG\n",
    "\n",
    "2) gagtctttcgccgatgcggtgtcgtgggtggct\n",
    "\n",
    "Note: If your input contains lowercase letters then make sure your function converts them to uppercase."
   ]
  },
  {
   "cell_type": "code",
   "execution_count": null,
   "metadata": {},
   "outputs": [],
   "source": []
  },
  {
   "cell_type": "code",
   "execution_count": null,
   "metadata": {},
   "outputs": [],
   "source": []
  },
  {
   "cell_type": "markdown",
   "metadata": {},
   "source": [
    "## P5 (4 pts)\n",
    "\n",
    "To generate random strings of DNA, we can use the __choice()__ function of the __random__ module to choose a random character from the string \"ACGT\". Write a function, __random_dna__ that returns a random fragment of DNA of a given length. Include a default length (=20) and a program with 3 test cases to test your function:\n",
    "\n",
    "1) length = 10\n",
    "\n",
    "2) length = 30\n",
    "\n",
    "3) default length"
   ]
  },
  {
   "cell_type": "code",
   "execution_count": null,
   "metadata": {},
   "outputs": [],
   "source": []
  },
  {
   "cell_type": "code",
   "execution_count": null,
   "metadata": {},
   "outputs": [],
   "source": []
  },
  {
   "cell_type": "markdown",
   "metadata": {},
   "source": [
    "## P6 (12 pts)\n",
    "\n",
    "The DNA strands are directional, so that if the top strand reads from left to right, then the bottom strand reads from right to left. Thus, the __reverse complement__ of a strand is also important.\n",
    "__Example: The reverse complement of AGGTC is GACCT.__\n",
    "\n",
    "A fragment of DNA is a __palindrome__ if it is the same as its reverse complement. (This is __not__ the same as a word palindrome.) Write a function __is_palindrome(dna)__ to return True if the given DNA is palindromic, and otherwise return False. Use your function to write a program that finds a palindrome of length 10 by testing randomly generated strings of DNA until it finds one.\n",
    "\n",
    "Hint: You may want to reuse the functions in P4 and P5."
   ]
  },
  {
   "cell_type": "code",
   "execution_count": null,
   "metadata": {},
   "outputs": [],
   "source": []
  },
  {
   "cell_type": "code",
   "execution_count": null,
   "metadata": {},
   "outputs": [],
   "source": []
  },
  {
   "cell_type": "markdown",
   "metadata": {},
   "source": [
    "## P7 (4 pts)\n",
    "\n",
    "Write a function __sortchars(s)__ that returns a string with the same characters in it as the string s, except in alphabetical order, __irrespective of \"case\"__. For example, __sortchars(\"program\")__ returns \"agmoprr\". Test with  the following strings:\n",
    "\n",
    "1) Python\n",
    "\n",
    "2) computational"
   ]
  },
  {
   "cell_type": "code",
   "execution_count": null,
   "metadata": {},
   "outputs": [],
   "source": []
  },
  {
   "cell_type": "code",
   "execution_count": null,
   "metadata": {},
   "outputs": [],
   "source": []
  }
 ],
 "metadata": {
  "kernelspec": {
   "display_name": "Python 3",
   "language": "python",
   "name": "python3"
  },
  "language_info": {
   "codemirror_mode": {
    "name": "ipython",
    "version": 3
   },
   "file_extension": ".py",
   "mimetype": "text/x-python",
   "name": "python",
   "nbconvert_exporter": "python",
   "pygments_lexer": "ipython3",
   "version": "3.6.6"
  }
 },
 "nbformat": 4,
 "nbformat_minor": 2
}
