{
 "cells": [
  {
   "cell_type": "markdown",
   "metadata": {},
   "source": [
    "## P1 (10 pts)\n",
    "The following code shows a simple implementation of a class to manage vectors and their operations. Take a minute to understand how it works."
   ]
  },
  {
   "cell_type": "code",
   "execution_count": 23,
   "metadata": {},
   "outputs": [],
   "source": [
    "import math\n",
    "\n",
    "class MyVector:\n",
    "    '''Demo Class to manage vector and operations'''\n",
    "    def __init__(self, x,y,z):\n",
    "        '''constructor'''\n",
    "        self.x = x\n",
    "        self.y = y\n",
    "        self.z = z\n",
    "    def __str__(self):\n",
    "        '''makes printable representation of vector'''\n",
    "        return 'MyVector (%f,%f,%f)'%(self.x,self.y,self.z)\n",
    "    def __add__(self,other):\n",
    "        '''adds vector'''\n",
    "        return MyVector(self.x+other.x,self.y+other.y,self.z+other.z)\n",
    "    def __sub__(self,other):\n",
    "        '''subtracts vector'''\n",
    "        return MyVector(self.x-other.x,self.y-other.y,self.z-other.z)\n",
    "    def __mul__(self,scalar):\n",
    "        '''multiplies vector by scalar'''\n",
    "        return MyVector(scalar*self.x,scalar*self.y,scalar*self.z)\n",
    "    def __div__(self,scalar):\n",
    "        '''divides vector by scalar'''\n",
    "        return MyVector(self.x/scalar,self.y/scalar,self.z/scalar)\n",
    "    def norm(self):\n",
    "        '''computes magnitude of vector'''\n",
    "        return math.sqrt(self.x**2+self.y**2+self.z**2)\n",
    "    def unit(self):\n",
    "        '''creates a unit vector'''\n",
    "        return self/self.norm()\n",
    "    def dot(self,other):\n",
    "        '''computes dot product'''\n",
    "        return self.x*other.x+self.y*other.y+self.z*other.z\n",
    "    def cross(self,other):\n",
    "        '''computes cross product'''\n",
    "        new_x = self.y*other.z-self.z*other.y\n",
    "        new_y = self.z*other.x-self.x*other.z\n",
    "        new_z = self.x*other.y-self.y*other.x\n",
    "        return MyVector(new_x,new_y,new_z)"
   ]
  },
  {
   "cell_type": "code",
   "execution_count": 37,
   "metadata": {},
   "outputs": [
    {
     "name": "stdout",
     "output_type": "stream",
     "text": [
      "MyVector (3.000000,1.000000,0.000000)\n",
      "MyVector (2.000000,2.000000,2.000000)\n",
      "MyVector (5.000000,3.000000,2.000000)\n",
      "3.1622776601683795\n",
      "8.0\n"
     ]
    }
   ],
   "source": [
    "# Examples:\n",
    "a = MyVector(3.0, 1.0, 0.0)\n",
    "print(a)\n",
    "b = MyVector(2.0, 2.0, 2.0)\n",
    "print(b)\n",
    "\n",
    "print(a + b)\n",
    "print(a.norm())\n",
    "print(a.dot(b))\n"
   ]
  },
  {
   "cell_type": "markdown",
   "metadata": {},
   "source": [
    "### Polar Vector\n",
    "Given a 2D vector $\\vec{A}$ = (x$\\hat{i}$ + y$\\hat{j}$), we can express it in __polar form__ , $\\vec{A}$ = $(r\\hat{r}, \\theta\\hat{\\theta})$ using the following equations:\n",
    "\n",
    "\\begin{equation} r =  \\sqrt{x^2+y^2} \\end{equation}\n",
    "\n",
    "\\begin{equation} \\theta =  \\arctan\\frac{y}{x} \\end{equation}\n",
    "\n",
    "For example, to express A = (1,âˆ’1) in polar form we compute the polar components using the above equations for $r$ and $\\theta$  and get:\n",
    "\n",
    "\\begin{equation} r =  \\sqrt{2} \\end{equation}\n",
    "\\begin{equation} \\theta =  \\frac{-\\pi}{4} \\end{equation}\n",
    "\n",
    "so, in polar form A becomes the A components are:\n",
    "\n",
    "\\begin{equation} A =  (\\sqrt{2}, \\frac{-\\pi}{4}) \\end{equation}\n",
    "\n",
    "__Your task__ is to add functions r() and theta() to class MyVector so that, given a 2D vector A, it can compute its $(r, \\theta)$ components. \n",
    "\n",
    "Test with A = (1,-1) and with B = (3,15) and print $r$ and $\\theta$ components for each A and B. Make sure you specify the units of $\\theta$."
   ]
  },
  {
   "cell_type": "markdown",
   "metadata": {},
   "source": [
    "## P2  (10 pts)"
   ]
  },
  {
   "cell_type": "markdown",
   "metadata": {},
   "source": [
    "Rather than adding functions to MyVector, we can __extend__ the class MyVector so that, given a 3D vector A, it can compute its spherical $(r, \\theta, \\phi)$ components. Note that now\n",
    "\n",
    "\n",
    "\\begin{equation} r =  \\sqrt{x^2+y^2+z^2} \\end{equation}\n",
    "\n",
    "\\begin{equation} \\theta =  \\arccos\\frac{z}{r} \\end{equation}\n",
    "\n",
    "\\begin{equation} \\phi =  \\arctan\\frac{y}{x} \\end{equation}\n",
    "\n",
    "For example, if A = (3,1,0), its components in spherical coordinates are:\n",
    "\n",
    "\\begin{equation} r =  1.621 \\end{equation}\n",
    "\\begin{equation} \\theta =  0.0 \\end{equation}\n",
    "\\begin{equation} \\phi =  2.524 \\end{equation}\n",
    "\n",
    "\n",
    "__Create class__ MySphericalVector - which inherits from MyVector - and add functions r() and theta() and phi(). Use the following __init__() constructor:\n",
    "\n",
    "\n",
    "```cython\n",
    "    def __init__(self,r,theta,phi):\n",
    "        '''constructor'''\n",
    "        MyVector.__init__(self,\n",
    "                          r*math.cos(theta)*math.cos(phi),\n",
    "                          r*math.cos(theta)*math.sin(phi),\n",
    "                          r*math.sin(theta))\n",
    "```\n",
    "\n",
    "Test with A = (3,1,0) and print the components.\n"
   ]
  },
  {
   "cell_type": "code",
   "execution_count": null,
   "metadata": {},
   "outputs": [],
   "source": []
  }
 ],
 "metadata": {
  "kernelspec": {
   "display_name": "Python 3",
   "language": "python",
   "name": "python3"
  },
  "language_info": {
   "codemirror_mode": {
    "name": "ipython",
    "version": 3
   },
   "file_extension": ".py",
   "mimetype": "text/x-python",
   "name": "python",
   "nbconvert_exporter": "python",
   "pygments_lexer": "ipython3",
   "version": "3.6.3"
  }
 },
 "nbformat": 4,
 "nbformat_minor": 2
}
