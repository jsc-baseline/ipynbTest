{
 "cells": [
  {
   "cell_type": "markdown",
   "metadata": {},
   "source": [
    "# HOMEWORK 9 (40 pts)"
   ]
  },
  {
   "cell_type": "code",
   "execution_count": 6,
   "metadata": {},
   "outputs": [],
   "source": [
    "# Numpy setup\n",
    "import numpy as np\n",
    "np.set_printoptions(precision=3)"
   ]
  },
  {
   "cell_type": "markdown",
   "metadata": {},
   "source": [
    "### Post-video questions (1 pt each)"
   ]
  },
  {
   "cell_type": "code",
   "execution_count": 7,
   "metadata": {},
   "outputs": [],
   "source": [
    "# Given\n",
    "np.random.seed( 23 )\n",
    "mat = np.random.ranf((5,6))"
   ]
  },
  {
   "cell_type": "code",
   "execution_count": 8,
   "metadata": {},
   "outputs": [
    {
     "name": "stdout",
     "output_type": "stream",
     "text": [
      "(5, 6)\n",
      "[[5.173e-01 9.470e-01 7.655e-01 2.824e-01 2.210e-01 6.862e-01]\n",
      " [1.671e-01 3.924e-01 6.181e-01 4.119e-01 2.465e-03 8.840e-01]\n",
      " [8.849e-01 3.004e-01 5.896e-01 9.784e-01 8.451e-01 6.508e-02]\n",
      " [2.947e-01 2.879e-01 8.225e-01 6.262e-01 1.105e-01 5.288e-04]\n",
      " [9.422e-01 1.415e-01 4.216e-01 3.465e-01 8.698e-01 4.286e-01]]\n"
     ]
    }
   ],
   "source": [
    "print(np.shape(mat))  # Check the shape\n",
    "print(mat) # print the matrix (for reference)"
   ]
  },
  {
   "cell_type": "markdown",
   "metadata": {},
   "source": [
    "#### Q1 Print the second column of data to the console."
   ]
  },
  {
   "cell_type": "code",
   "execution_count": 9,
   "metadata": {},
   "outputs": [
    {
     "name": "stdout",
     "output_type": "stream",
     "text": [
      "[0.947 0.392 0.3   0.288 0.142]\n"
     ]
    }
   ],
   "source": [
    "print(mat[:,1]) # \":\" means all indices along 0 axis (i.e. rows) , 1 is second column"
   ]
  },
  {
   "cell_type": "markdown",
   "metadata": {},
   "source": [
    "#### Q2 Print the lower right 2Ã—2 portion of the matrix."
   ]
  },
  {
   "cell_type": "code",
   "execution_count": 10,
   "metadata": {},
   "outputs": [
    {
     "name": "stdout",
     "output_type": "stream",
     "text": [
      "[[1.105e-01 5.288e-04]\n",
      " [8.698e-01 4.286e-01]]\n"
     ]
    }
   ],
   "source": [
    "print(mat[3:5,4:6])"
   ]
  },
  {
   "cell_type": "markdown",
   "metadata": {},
   "source": [
    "#### Q3 Print the average of the entire matrix and the average of the columns. (Do not use _for_ or _while_ loops.)"
   ]
  },
  {
   "cell_type": "code",
   "execution_count": 19,
   "metadata": {},
   "outputs": [
    {
     "name": "stdout",
     "output_type": "stream",
     "text": [
      "0.49504848821354275\n",
      "Average of all columns:\n",
      "[0.561 0.414 0.643 0.529 0.41  0.413]\n"
     ]
    }
   ],
   "source": [
    "print(np.mean(mat))\n",
    "print('Average of all columns:')\n",
    "print(np.mean(mat, axis=0))"
   ]
  },
  {
   "cell_type": "code",
   "execution_count": 12,
   "metadata": {},
   "outputs": [
    {
     "name": "stdout",
     "output_type": "stream",
     "text": [
      "0.561\n",
      "0.414\n"
     ]
    }
   ],
   "source": [
    "# You can also do individual columns:\n",
    "print('{:.3f}'.format(mat[:,0].mean())) # first column\n",
    "print('{:.3f}'.format(mat[:,1].mean())) # second column\n",
    "# etc..."
   ]
  },
  {
   "cell_type": "markdown",
   "metadata": {},
   "source": [
    "Do the following using __numpy__. Do not use _for_ or _while_ loops. Each of these steps should be one short Python line + one line to print. \n",
    "\n",
    "Hint: Explore the NumPy documentation to consider use of the function: â€œnp.arangeâ€.\n",
    "\n",
    "* Q4: Create a matrix of zeros that has 2 columns and 6 rows.\n",
    "* Q5: Fill the first column with (0,1,2,3,4,5)\n",
    "* Q6: The first column is associated with the value of $x$. Fill the second column with $y=x^2-x$\n"
   ]
  },
  {
   "cell_type": "code",
   "execution_count": 13,
   "metadata": {},
   "outputs": [
    {
     "name": "stdout",
     "output_type": "stream",
     "text": [
      "[[0. 0.]\n",
      " [0. 0.]\n",
      " [0. 0.]\n",
      " [0. 0.]\n",
      " [0. 0.]\n",
      " [0. 0.]]\n"
     ]
    }
   ],
   "source": [
    "# Q4\n",
    "a = np.zeros((6,2))\n",
    "print(a) "
   ]
  },
  {
   "cell_type": "code",
   "execution_count": 14,
   "metadata": {},
   "outputs": [
    {
     "name": "stdout",
     "output_type": "stream",
     "text": [
      "[[0. 0.]\n",
      " [1. 0.]\n",
      " [2. 0.]\n",
      " [3. 0.]\n",
      " [4. 0.]\n",
      " [5. 0.]]\n"
     ]
    }
   ],
   "source": [
    "# Q5\n",
    "a[:,0] = np.arange(0.,6.)\n",
    "print(a)"
   ]
  },
  {
   "cell_type": "code",
   "execution_count": 15,
   "metadata": {},
   "outputs": [
    {
     "name": "stdout",
     "output_type": "stream",
     "text": [
      "[[ 0.  0.]\n",
      " [ 1.  0.]\n",
      " [ 2.  2.]\n",
      " [ 3.  6.]\n",
      " [ 4. 12.]\n",
      " [ 5. 20.]]\n"
     ]
    }
   ],
   "source": [
    "# Q6\n",
    "a[:,1] = a[:,0]**2 - a[:,0]\n",
    "print(a)"
   ]
  },
  {
   "cell_type": "markdown",
   "metadata": {},
   "source": [
    "#### Q7 Use a single command to find _all_ of the elements that are greater than 0.7"
   ]
  },
  {
   "cell_type": "code",
   "execution_count": 16,
   "metadata": {},
   "outputs": [
    {
     "name": "stdout",
     "output_type": "stream",
     "text": [
      "[[False False]\n",
      " [ True False]\n",
      " [ True  True]\n",
      " [ True  True]\n",
      " [ True  True]\n",
      " [ True  True]]\n"
     ]
    }
   ],
   "source": [
    "print(a > 0.7)"
   ]
  },
  {
   "cell_type": "markdown",
   "metadata": {},
   "source": [
    "#### Q8 Use the results from the previous problem, and in a single command print out the _values_ of the elements in the matrix that are above 0.7."
   ]
  },
  {
   "cell_type": "code",
   "execution_count": 18,
   "metadata": {},
   "outputs": [
    {
     "name": "stdout",
     "output_type": "stream",
     "text": [
      "[[ 0.  0.]\n",
      " [ 1.  0.]\n",
      " [ 2.  2.]\n",
      " [ 3.  6.]\n",
      " [ 4. 12.]\n",
      " [ 5. 20.]]\n",
      "[ 1.  2.  2.  3.  6.  4. 12.  5. 20.]\n"
     ]
    }
   ],
   "source": [
    "print(a)\n",
    "print(a[a > 0.7])"
   ]
  },
  {
   "cell_type": "markdown",
   "metadata": {},
   "source": [
    "## Problem 1 (3 pts)\n",
    "Create a vector of 10,000,000 random elements using a function from __numpy.random__. \n",
    "\n",
    "Compute the average of this vector using the __old-fashioned, slow, for loop method__. Show the code and the result."
   ]
  },
  {
   "cell_type": "code",
   "execution_count": 6,
   "metadata": {},
   "outputs": [
    {
     "name": "stdout",
     "output_type": "stream",
     "text": [
      "0.5000554394406679\n"
     ]
    }
   ],
   "source": [
    "vec = np.random.rand(10000000)\n",
    "sm = 0\n",
    "for i in vec:\n",
    "    sm += i\n",
    "print (sm/len(vec))"
   ]
  },
  {
   "cell_type": "markdown",
   "metadata": {},
   "source": [
    "## Problem 2 (1 pts)\n",
    "\n",
    "Compute the average using a __numpy__ function. Show the code and the result."
   ]
  },
  {
   "cell_type": "code",
   "execution_count": 15,
   "metadata": {},
   "outputs": [
    {
     "name": "stdout",
     "output_type": "stream",
     "text": [
      "0.5000554394405515\n"
     ]
    }
   ],
   "source": [
    "print(vec.mean())"
   ]
  },
  {
   "cell_type": "markdown",
   "metadata": {},
   "source": [
    "## Problem 3 (6 pts)\n",
    "\n",
    "The __time.time()__ function will return the current time in terms of seconds. It is possible to determine the __computational time__ of a process by capturing the time before and after the execution of the process. Write a Python script to compute the __computational time__ for the previous two problems. Do not get a new vector, and do not include the creation of the random vector in your timing.\n",
    "\n",
    "Compute the __ratio__ of the time to compute the average using Problem 1 to the time it took to compute the answer using the method in Problem 2. Show your codes, the times for each method, and the ratio."
   ]
  },
  {
   "cell_type": "code",
   "execution_count": 9,
   "metadata": {},
   "outputs": [
    {
     "name": "stdout",
     "output_type": "stream",
     "text": [
      "slow: 1.66069 fast: 0.00723 ratio: 229.75407 or 0.00435 \n"
     ]
    }
   ],
   "source": [
    "import time\n",
    "t1 = time.time()\n",
    "sm = 0\n",
    "for i in vec:\n",
    "    sm += i\n",
    "t2 = time.time()\n",
    "vec.mean()\n",
    "t3= time.time()\n",
    "print('slow: {:.5f} fast: {:.5f} ratio: {:.5f} or {:.5f} '.format(t2-t1, t3-t2, (t2-t1)/(t3-t2), (t3-t2)/(t2-t1)))\n",
    "# Note that the numbers below may differ from your results"
   ]
  },
  {
   "cell_type": "markdown",
   "metadata": {},
   "source": [
    "## Problem 4 (3 pts)\n",
    "\n",
    "Use the numpy random seed value of 23423. Create three random vectors, each of length 5. These are named $a$,$b$,and $c$. \n",
    "\n",
    "Compute $d=a+bÃ—c$. Show your code and all four vectors.\n"
   ]
  },
  {
   "cell_type": "code",
   "execution_count": 10,
   "metadata": {},
   "outputs": [
    {
     "name": "stdout",
     "output_type": "stream",
     "text": [
      "a: [0.891 0.045 0.59  0.743 0.545]\n",
      "b: [0.006 0.466 0.566 0.06  0.322]\n",
      "c: [0.046 0.307 0.939 0.888 0.544]\n",
      "d: [0.891 0.189 1.122 0.797 0.721]\n"
     ]
    }
   ],
   "source": [
    "np.random.seed( 23423 )\n",
    "a = np.random.rand(5)\n",
    "b = np.random.rand(5)\n",
    "c = np.random.rand(5)\n",
    "d = a + b*c\n",
    "print('a:',a)\n",
    "print('b:',b)\n",
    "print('c:',c)\n",
    "print('d:',d)"
   ]
  },
  {
   "cell_type": "markdown",
   "metadata": {},
   "source": [
    "## Problem 5 (3 pts)\n",
    "\n",
    "Create a $5 Ã— 5$ matrix of random values. Use the seed of 453. Using the random slicing technique, write a Python command that retrieves values for the following locations in the matrix $(1,3)$, $(2,2)$, $(3,1)$."
   ]
  },
  {
   "cell_type": "code",
   "execution_count": 57,
   "metadata": {},
   "outputs": [
    {
     "name": "stdout",
     "output_type": "stream",
     "text": [
      "[0.171 0.199 0.303]\n"
     ]
    }
   ],
   "source": [
    "x = [1,2,3]\n",
    "y = [3,2,1]\n",
    "np.random.seed( 453 )\n",
    "mat = np.random.ranf((5,5))\n",
    "print(mat[x,y])"
   ]
  },
  {
   "cell_type": "markdown",
   "metadata": {},
   "source": [
    "## Problem 6 (4 pts)\n",
    "\n",
    "Recall the equation used for an object falling under the influence of gravity,\n",
    "\n",
    "$$y_2 = y_1 + v_1 t + \\frac{1}{2} g t^2 $$\n",
    "\n",
    "Start with a height of $600$ m.  Your task is to compute the height of the object for ten different experiments.  The experiments differ in the amount of time the object drops: $t = ( 1, 2, 3, 4, 5, 6, 7, 8, 9, 10)$ all in seconds.  To compute the $y_2$ values for all experiments, use,\n",
    "\n",
    "$$\\vec y_2 = \\vec y_1 +  \\frac{1}{2} g {\\vec t}^2 $$\n",
    "\n",
    "Once the data variables are assigned, this computation can be done in one line of Python.  Show your code and the results.\n"
   ]
  },
  {
   "cell_type": "code",
   "execution_count": 58,
   "metadata": {},
   "outputs": [
    {
     "name": "stdout",
     "output_type": "stream",
     "text": [
      "[595.1 580.4 555.9 521.6 477.5 423.6 359.9 286.4 203.1 110. ]\n"
     ]
    }
   ],
   "source": [
    "dt = np.array((1,2,3,4,5,6,7,8,9,10))\n",
    "y0 = 600\n",
    "g = -9.8\n",
    "y2 = y0 + 0.5*g*dt*dt\n",
    "print(y2)"
   ]
  },
  {
   "cell_type": "markdown",
   "metadata": {},
   "source": [
    "## Problem 7 (6 pts)\n",
    "\n",
    "Recall the chaos equation: \n",
    "\n",
    "$$x_{n+1} = r x_n (1-x_n).$$\n",
    "\n",
    "\n",
    "Python does not offer tools to solve this equation efficiently because it is a recursive equation.  The answer to $x_n$ is needed before $x_{n+1}$ can be computed.  However, it is possible to use NumPy tools to efficiently calculate the results for several trials using different values of $r$.\n",
    "\n",
    "Create a vector $rvec$ which has the values $(2, 2.3, 2.8, 3, 3.3,, 4.0)$.  Create a matrix $mat$ which is $50 \\times 6$.  In a single command set the values of the top row of the matrix to 0.1. (This was the initial starting value of $x$.)  Each row in this matrix will be one iteration of the equation and each column is one trial.  Create a __for__ loop that spans the number of iterations (49).  Inside the __for__ loop there should be a single line that calculates the values for all trials in a single row. \n",
    "\n",
    "The first values in the first column correspond to the experiment when $r = 2.0$.  The $x$ value in this trial stabilizes at 0.5.  Thus, the last four values in the first column should be 0.5.  In a single Python command, print out the last for rows for all columns.  These values should match the results from the lecture.\n"
   ]
  },
  {
   "cell_type": "code",
   "execution_count": 20,
   "metadata": {},
   "outputs": [
    {
     "name": "stdout",
     "output_type": "stream",
     "text": [
      "[[0.5   0.6   0.643 0.634 0.479 0.997]\n",
      " [0.5   0.6   0.643 0.696 0.824 0.011]\n",
      " [0.5   0.6   0.643 0.635 0.479 0.044]\n",
      " [0.5   0.6   0.643 0.695 0.824 0.168]]\n"
     ]
    }
   ],
   "source": [
    "mat = np.zeros((50,6))\n",
    "mat[0] = 0.1\n",
    "\n",
    "# Create \"r\" vector\n",
    "rvec= np.array((2,2.5,2.8,3,3.3,4))\n",
    "\n",
    "for i in range( 1,50):\n",
    "    mat[i] = rvec*mat[i-1]*(1-mat[i-1])\n",
    "    \n",
    "# print out the last four rows for all columns\n",
    "print(mat[-4:])"
   ]
  },
  {
   "cell_type": "markdown",
   "metadata": {},
   "source": [
    "## Problem 8 (6 pts)\n",
    "\n",
    "Consider the case in which the goal is to find a vector $\\vec h$ such that,\n",
    "$$\\vec h \\cdot \\vec x_i = 1.$$\n",
    "The $\\vec x_i$ represents a vector from a set of vectors.  The equations states that the dot product of the vector $\\vec h$ with _any_ of the $\\vec x$ vectors is 1.0.  The task of this assignment is to find $\\vec h$ for a given set of $\\vec x$ vectors.\n",
    "\n",
    "The solution starts with creating a matrix __X__ in which each of the columns is one of the $\\vec x$ vectors.  The code for generating this matrix is:\n",
    "```cython\n",
    "np.random.seed( 235 )\n",
    "X = np.random.ranf((10,3))\n",
    "```\n",
    "\n",
    "It can be shown that the equation to find $\\vec h$ is\n",
    "\n",
    "$$\\vec h = {\\bf X} \\left( {\\bf X}^T {\\bf X} \\right)^{-1} \\vec c$$\n",
    "\n",
    "or alternatively,\n",
    "\n",
    "$$\\vec h = \\left( {\\bf X}^T {\\bf X} \\right)^{-1} {\\bf X^T}  \\vec c$$\n",
    "\n",
    "\n",
    "The $X^T$ is the transpose, and the superscript -1 is the inverse and the vector $\\vec c = (1,1,1)$.  The length of $\\vec c$ is the same as the number of vectors used to make ${\\bf X}$.\n",
    "\n",
    "Write a Python script to compute $\\vec h$.  Show your codes and results.  Confirm your results by computing $\\vec h \\cdot \\vec x_i$ where $x_i$ is a column from ${\\bf X}$.  There are three columns in ${\\bf X}$, so you should confirm the $\\vec h$ for each column.\n"
   ]
  },
  {
   "cell_type": "code",
   "execution_count": 33,
   "metadata": {},
   "outputs": [
    {
     "name": "stdout",
     "output_type": "stream",
     "text": [
      "Shape h:  (10,)\n",
      "h:  [ 0.158  0.237 -0.068 -0.037  0.362  0.125  0.281  0.428  0.204  0.391]\n",
      "Verify that 'h.x = 1' :\n",
      "1.000\n",
      "1.000\n",
      "1.000\n"
     ]
    }
   ],
   "source": [
    "# Given:\n",
    "np.random.seed( 235 )\n",
    "X = np.random.ranf((10,3))\n",
    "\n",
    "# Build expression:\n",
    "Q = X.T.dot(X)\n",
    "c = np.ones(3)\n",
    "Qi = np.linalg.inv(Q)\n",
    "a = Qi.dot(c)\n",
    "h = X.dot(a)\n",
    "# or \n",
    "# h = a.dot(X.T)\n",
    "\n",
    "# Print results\n",
    "print('Shape h: ',np.shape(h))\n",
    "print('h: ', h)\n",
    "print(\"Verify that 'h.x = 1' :\")\n",
    "# Note that formatting \"removes\" the round-off error\n",
    "print('{:.3f}'.format(h.dot(X[:,0])))\n",
    "print('{:.3f}'.format(h.dot(X[:,1])))\n",
    "print('{:.3f}'.format(h.dot(X[:,2])))"
   ]
  },
  {
   "cell_type": "code",
   "execution_count": null,
   "metadata": {},
   "outputs": [],
   "source": []
  }
 ],
 "metadata": {
  "kernelspec": {
   "display_name": "Python 3",
   "language": "python",
   "name": "python3"
  },
  "language_info": {
   "codemirror_mode": {
    "name": "ipython",
    "version": 3
   },
   "file_extension": ".py",
   "mimetype": "text/x-python",
   "name": "python",
   "nbconvert_exporter": "python",
   "pygments_lexer": "ipython3",
   "version": "3.6.6"
  }
 },
 "nbformat": 4,
 "nbformat_minor": 2
}
