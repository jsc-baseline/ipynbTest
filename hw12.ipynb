{
 "cells": [
  {
   "cell_type": "markdown",
   "metadata": {},
   "source": [
    "# HOMEWORK 12 (40 pts)\n",
    "\n",
    "Please read all problems carefully before attempting to solve them. Also, make sure you run your code before submitting.\n",
    "\n",
    "When you are done, please rename the notebook (use \"Make a Copy...\" from the drop down menu) and name it using the following format: \n",
    "\n",
    "__homework12_yourlastname__ \n",
    "\n",
    "then submit the copy instead."
   ]
  },
  {
   "cell_type": "markdown",
   "metadata": {},
   "source": [
    "In this homework we will try to understand more of the basic text pre-processing described in the video lectures."
   ]
  },
  {
   "cell_type": "markdown",
   "metadata": {},
   "source": [
    "## P1 (4 pts)\n",
    "\n",
    "Copy the mining.zip file to your data directory and unzip the file. You will get a directory called __mining__ and 5 subdirectories within it:\n",
    "\n",
    "```cython\n",
    "actin \n",
    "cbir \n",
    "forensics \n",
    "image     \n",
    "nnets\n",
    "```\n",
    "\n",
    "Your task is to do the following:\n",
    "\n",
    "* Import the given __miner module__ and run _help(miner)_ to learn a bit about the miner methods (these are discussed in the videos and in the textbook). Note that the __miner__ documentation is _not_ very good so you _may_ need to open the file and look at the code to learn more about them.\n",
    "* Use the miner module to get and print a list of the files in the __actin__ directory - this should be two Python commands. "
   ]
  },
  {
   "cell_type": "markdown",
   "metadata": {},
   "source": [
    "## P2 (6 pts)\n",
    "\n",
    "The following command (from the video lecture) reads the file mining/nnets/Feng10.txt and stores the output text in feng10txt:\n",
    "```cython\n",
    "feng10txt = open('mining/nnets/Feng10.txt', 'r', encoding='ascii', errors='surrogateescape').read()\n",
    "```\n",
    "\n",
    "* What type of _object_ is _feng10txt_ (one line of code)?\n",
    "\n",
    "* What is the size _feng10txt_ (one line of code)?\n",
    "\n",
    "* Inspect feng10txt. You will note that it contains a lot of 'garbage' characters. Use the _miner_ module to \"clean up\" the text and store in the same variable (one line of code).\n",
    "\n",
    "* What is the size of the 'cleaned' text (one line of code)?\n",
    "\n",
    "* Use the _miner_ module to collect, in a dictionary, all the words that >=5 letters and print the length of the dictionary (two lines of code)?\n"
   ]
  },
  {
   "cell_type": "markdown",
   "metadata": {},
   "source": [
    "## P3 (4 pts)\n",
    "\n",
    "* Import the __porter module__ and run _help(porter)_ to learn a bit about the porter methods.\n",
    "* Using feng10text, build the dictionary described in the video and reproduce the result:\n",
    "```cython\n",
    "dct['imag']\n",
    "Out[]: [1353, 1367, 1478, 1991]\n",
    "    ```\n",
    "Note that PorterStemming() and StemDict() are already methods in the __miner__ module.\n",
    "\n"
   ]
  },
  {
   "cell_type": "markdown",
   "metadata": {},
   "source": [
    "## P4 (6 pts)\n",
    "\n",
    "Here you will be reproducing some of the results in the video lecture.\n",
    "\n",
    "* Collect all the dictionaries as described in the video lecture and produce the result of:\n",
    "\n",
    "```cython\n",
    "print(n1,n2,n3,n4,n5)\n",
    "23 12 14 25 20\n",
    "```\n",
    "\n",
    "* Get a list and print the number of unique words from all dictionaries (This number __may not__ be the same as the number given in the video but should be the same order of magnitude).\n",
    "* Generate the word count matrix and print its shape.\n"
   ]
  },
  {
   "cell_type": "markdown",
   "metadata": {},
   "source": [
    "## P5 (6 pts)\n",
    "\n",
    "* What is the most popular word in the documents? \n",
    "* What is the probability of the most popular word in the documents?\n",
    "* How many times does the word appear (use the probability)? "
   ]
  },
  {
   "cell_type": "markdown",
   "metadata": {},
   "source": [
    "## P6 (2 pts)\n",
    "\n",
    "Reproduce the __scores__ plot shown in the video lectures."
   ]
  },
  {
   "cell_type": "markdown",
   "metadata": {},
   "source": [
    "## P7 (6 pts)\n",
    "\n",
    "* __Score__ the documents mining/actin/Roy08.txt and mining/nnets/Feng10.txt\n",
    "\n",
    "Why is the score of Roy08.txt much higher than that of Feng10.txt?"
   ]
  },
  {
   "cell_type": "markdown",
   "metadata": {},
   "source": [
    "## P8 (6 pts)\n",
    "\n",
    "* Open and read the file romeojuliet.txt and clean up the text using the __miner__ module as in P2 above. \n",
    "* Build a stem dictionary, call it \"stem_d\".\n",
    "* How many times does the (stem) word \"juliet\" appear in the text? "
   ]
  }
 ],
 "metadata": {
  "kernelspec": {
   "display_name": "Python 3",
   "language": "python",
   "name": "python3"
  },
  "language_info": {
   "codemirror_mode": {
    "name": "ipython",
    "version": 3
   },
   "file_extension": ".py",
   "mimetype": "text/x-python",
   "name": "python",
   "nbconvert_exporter": "python",
   "pygments_lexer": "ipython3",
   "version": "3.7.0"
  }
 },
 "nbformat": 4,
 "nbformat_minor": 2
}
