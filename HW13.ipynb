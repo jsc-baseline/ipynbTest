{
 "cells": [
  {
   "cell_type": "markdown",
   "metadata": {},
   "source": [
    "## Final assessment (100 pts)\n",
    "\n",
    "\n",
    "\n",
    "<b>Instructions:</b>\n",
    "<ul>\n",
    " \n",
    " <li> Complete the notebook below, as follows. Click on a question, then from the menu select Insert -> Insert Cell Below. From the dropdown box (next to the \"stop\" symbol) choose whether you wish to insert 'Code' or 'Markdown' (i.e. text).  Save regularly! \n",
    " \n",
    " <li> Press Shift-Enter to execute the code in a cell.\n",
    "\n",
    " <li> You will get partial cedit for a reasonable attempt. However, only if the the code runs. If the cell does not run, you will not get credit.\n",
    " <li> Most problems require 2-4 lines of code. Only three problems may require ~10 or more lines of code. \n",
    "\n",
    " <li> Submit via BlackBoard by midnight on Friday December 14th.\n",
    "\n",
    "</ul> \n",
    "\n",
    "\n"
   ]
  },
  {
   "cell_type": "markdown",
   "metadata": {},
   "source": [
    "<hr>\n",
    "When you are done, please rename the notebook (use \"File->Make a Copy...\" from the drop down menu) and name it using the following format:\n",
    "\n",
    "__final_yourlastname__\n",
    "\n",
    "then submit the copy instead.\n"
   ]
  },
  {
   "cell_type": "markdown",
   "metadata": {},
   "source": [
    "<hr>\n",
    "\n",
    "This is an \"open-book\" assessment, which means you may refer to homework assignments/solutions, video lectures, the textbook and references provided in the Lecture contents. You __may refer__ to outside sources but are not allowed to __copy/paste__ answers. Do not share your test with any of your colleagues. __Please give answers in your own words__.\n",
    "    \n",
    "Finally __keep in mind at all times that GMU is an Honor Code university.__"
   ]
  },
  {
   "cell_type": "markdown",
   "metadata": {},
   "source": [
    "<hr>\n",
    "<hr>\n",
    "<h2>A. Concepts</h2>\n",
    "(Please answer the following questions in \"raw text\" or \"markdown\" cells)"
   ]
  },
  {
   "cell_type": "markdown",
   "metadata": {},
   "source": [
    "<b>1. (3 pts) What does \"mutable\" mean? Give three examples of data types that are mutable. </b> (N.B. Common data types include int, list, tuple, dict, set, string, float). "
   ]
  },
  {
   "cell_type": "markdown",
   "metadata": {},
   "source": [
    "<b>2. (3 pts) Describe the three numeric data types in Python 3. </b> "
   ]
  },
  {
   "cell_type": "markdown",
   "metadata": {},
   "source": [
    "<b>3. (3 pts) Describe two key differences between lists and arrays. (More specifically, between the <code>list</code> and <code>ndarray</code> types). </b>"
   ]
  },
  {
   "cell_type": "markdown",
   "metadata": {},
   "source": [
    "<b>4. (3 pts) What is \"vectorization\"? Explain with an example.</b> "
   ]
  },
  {
   "cell_type": "markdown",
   "metadata": {},
   "source": [
    "<hr>\n",
    "<h2>B. Python code</h2>"
   ]
  },
  {
   "cell_type": "markdown",
   "metadata": {},
   "source": [
    "(Please answer the following questions in \"code\" cells)."
   ]
  },
  {
   "cell_type": "markdown",
   "metadata": {},
   "source": [
    "<b>5. (4 pts) Use Python as a calculator and calculate: $\\cos(\\pi/8)$, $\\ln(3)$, $\\exp(i \\pi / 4)$ and $\\frac{1+\\sqrt{3}i}{1-\\sqrt{3}i}$, where $i$ is the unit imaginary number.</b>"
   ]
  },
  {
   "cell_type": "markdown",
   "metadata": {},
   "source": [
    "<b>6. (4 pts) Use numpy to find the following sum: $$\\sum_{k=1}^{1000} \\frac{1}{k^4} = 1 + \\frac{1}{16} + \\frac{1}{81} + \\ldots + \\frac{1}{10^{12}}$$</b>"
   ]
  },
  {
   "cell_type": "markdown",
   "metadata": {},
   "source": [
    "<b>7. (4 pts) The Euler-Mascheroni constant $\\gamma$ is defined by</b>\n",
    "$$\n",
    "\\gamma = \\lim_{n \\rightarrow \\infty} \\left(-\\ln(n) + \\sum_{k=1}^n \\frac{1}{k} \\right)\n",
    "$$\n",
    "<b>Calculate $\\gamma$ to an accuracy of 5 decimal places.</b>"
   ]
  },
  {
   "cell_type": "markdown",
   "metadata": {},
   "source": [
    "<b>8. (8 pts) Apply the Newton-Raphson method $$x_{n+1} = x_n - f(x_n) / f'(x_n)$$ to compute the largest root of $f(x) = x^3 - 5x - 1$ to 10 decimal places.</b> "
   ]
  },
  {
   "cell_type": "markdown",
   "metadata": {},
   "source": [
    "<b>9. (6 pts) Write code to demonstrate that the ratio of Fibonacci numbers $f_{k+1} / f_{k}$ tends towards the Golden Ratio as $k \\rightarrow \\infty$.  (The Fibonacci sequence is defined by $f_{k+1} = f_k + f_{k-1}$ with $f_{0} = f_{1} = 1$).</b> "
   ]
  },
  {
   "cell_type": "markdown",
   "metadata": {},
   "source": [
    "<hr>\n",
    "<h2>C. Strings</h2>\n",
    "(Please answer in \"code\" cells)."
   ]
  },
  {
   "cell_type": "code",
   "execution_count": 17,
   "metadata": {},
   "outputs": [
    {
     "name": "stdout",
     "output_type": "stream",
     "text": [
      "It was the best of times, it was the worst of times, it was the age of wisdom, it was the age of foolishness, it was the epoch of belief, it was the epoch of incredulity, it was the season of Light, it was the season of Darkness, it was the spring of hope, it was the winter of despair, we had everything before us, we had nothing before us, we were all going direct to Heaven, we were all going direct the other way. In short, the period was so far like the present period, that some of its noisiest authorities insisted on its being received, for good or for evil, in the superlative degree of comparison only.\n"
     ]
    }
   ],
   "source": [
    "s = \"It was the best of times, it was the worst of times, it was the age of wisdom, it was the age of foolishness, it was the epoch of belief, it was the epoch of incredulity, it was the season of Light, it was the season of Darkness, it was the spring of hope, it was the winter of despair, we had everything before us, we had nothing before us, we were all going direct to Heaven, we were all going direct the other way. In short, the period was so far like the present period, that some of its noisiest authorities insisted on its being received, for good or for evil, in the superlative degree of comparison only.\"\n",
    "print(s)"
   ]
  },
  {
   "cell_type": "markdown",
   "metadata": {},
   "source": [
    "<b>10. (6 pts) Open a new file \"zzz.txt\", where zzz is your last name. Write this famous opening line (the string <code>s</code>) into the file, putting just one word on each line, like this:</b><br>\n",
    "It<br>\n",
    "was<br>\n",
    "the<br>\n",
    "..."
   ]
  },
  {
   "cell_type": "markdown",
   "metadata": {},
   "source": [
    "<b>11. (6 pts) How many words are in this paragraph? How many distinct words?</b> "
   ]
  },
  {
   "cell_type": "markdown",
   "metadata": {},
   "source": [
    "<b>12. (6 pts) The letter 'e'/'E' appears 69 times in this paragraph. Which letter is the next most common, and how many times does it appear?</b> "
   ]
  },
  {
   "cell_type": "markdown",
   "metadata": {},
   "source": [
    "<hr>\n",
    "<h2>D. NumPy </h2>\n",
    "(Please answer in \"code\" cells  - except P17 in \"markdown\")."
   ]
  },
  {
   "cell_type": "code",
   "execution_count": 2,
   "metadata": {},
   "outputs": [],
   "source": [
    "import numpy as np"
   ]
  },
  {
   "cell_type": "markdown",
   "metadata": {},
   "source": [
    "<b>13. (2 pts) Make a 2D array of dimension $3 \\times 4$ containing the integers 1, 2, ... 12</b>     "
   ]
  },
  {
   "cell_type": "markdown",
   "metadata": {},
   "source": [
    "<b>14. (6 pts) Make an array of 1000 random numbers drawn from the standard uniform distribution on the interval [0,1) (see lecture 2).<br> Calculate the standard deviation $\\sigma$ of the data, and verify that it is approximately equal to $\\frac{1}{2 \\sqrt{3}}$.</b>"
   ]
  },
  {
   "cell_type": "markdown",
   "metadata": {},
   "source": [
    "<b>15. (4 pts)</b> A square matrix $N$ is said to be <b>nilpotent</b> if $N^k = 0$ for some $k > 1$. <b>Demonstrate that the following matrix is nilpotent:</b>\n",
    "$$\n",
    "A = \\begin{bmatrix} 2 & 2 & -2 \\\\ 5 & 1 & -3 \\\\ 1 & 5 & -3 \\end{bmatrix}\n",
    "$$"
   ]
  },
  {
   "cell_type": "markdown",
   "metadata": {},
   "source": [
    "<b>16. (4 pts) Use the <code>numpy</code> module and the <code>dot</code> function to find the matrix product $A B$, where\n",
    "$$\n",
    "A = \\left(\\begin{array}{cc} 1 & 2 \\\\ 3 & 4 \\end{array} \\right) , \\quad \\quad B = \\left(\\begin{array}{cc} 5 & 6 \\\\ 7 & 8 \\end{array} \\right) .\n",
    "$$</b>"
   ]
  },
  {
   "cell_type": "markdown",
   "metadata": {},
   "source": [
    "<b>17. (4 pts) Explain why <code>A * B</code> gives a different result to <code>dot(A, B)</code>.</b>"
   ]
  },
  {
   "cell_type": "markdown",
   "metadata": {},
   "source": [
    "<hr>\n",
    "<h2>E. Cryptography</h2>\n",
    "(Please answer P18 in \"markdown\" P19 in \"code\" cells)."
   ]
  },
  {
   "cell_type": "code",
   "execution_count": null,
   "metadata": {},
   "outputs": [],
   "source": [
    "def scramble(s):\n",
    "    \"\"\"Scrambles a string.\"\"\"\n",
    "    return s[0::2] + s[1::2]"
   ]
  },
  {
   "cell_type": "markdown",
   "metadata": {},
   "source": [
    "<b>18. (4 pts) Describe in your own words what the <code>scramble</code> function does.</b>"
   ]
  },
  {
   "cell_type": "markdown",
   "metadata": {},
   "source": [
    "<b>19. (10 pts) Write a function <code>unscramble</code> to reverse its effect.  Use your function to decipher the following quote below (assigned to variable s1) from a famous novel.</b>\n",
    "\n",
    "s1 = \"I satuhuieslyakolde htasnl a npseso fago otn utb nwn fawfti  rt nvral cnwegdta  igemni ossino  odfruems ei ato  ie\""
   ]
  },
  {
   "cell_type": "markdown",
   "metadata": {},
   "source": [
    "From which  novel is it taken? (this part not assessed)"
   ]
  },
  {
   "cell_type": "markdown",
   "metadata": {},
   "source": [
    "<hr>\n",
    "<h2>F. Dynamical systems: plots in time and phase space </h2>"
   ]
  },
  {
   "cell_type": "markdown",
   "metadata": {},
   "source": [
    "<b>20. (10 pts) Consider the system  {ð‘“(ð‘¥,ð‘¦),ð‘”(ð‘¥,ð‘¦)}  with  x (predator) and  y (prey) being two interacting species changing in time according to the following differential equations:\n",
    "\n",
    "$f(x,y) = \\frac{dx}{dt} = x(2-x-y)$\n",
    "\n",
    "$g(x,y) = \\frac{dy}{dt} = y(-1+x)$\n",
    "</b>"
   ]
  },
  {
   "cell_type": "markdown",
   "metadata": {},
   "source": [
    "The code below provides a partial solution to analyze the above system. Your task is to:\n",
    "\n",
    "* Write Python functions f(x,y) and g(x,y) where specified\n",
    "* Write code to create two subplots\n",
    "    * Plot temporal representation of the system's development (x vs t and y vs t) in the first one.\n",
    "    * Plot phase space portrait of the system (x vs y) in the second one\n",
    "    * Label axes and the plots."
   ]
  },
  {
   "cell_type": "code",
   "execution_count": null,
   "metadata": {},
   "outputs": [],
   "source": [
    "# import necessary libraries\n",
    "import matplotlib.pyplot as plt\n",
    "# show plots in notebook\n",
    "%matplotlib inline\n",
    "\n",
    "# Write functions here:\n",
    "# define system in terms of separated differential equations\n",
    "\n",
    "\n",
    "\n",
    "# initialize lists containing values\n",
    "x = []\n",
    "y = []\n",
    "def integrate_system(iv1, iv2, dt, time):\n",
    "    # initial values:\n",
    "    x.append(iv1)\n",
    "    y.append(iv2)\n",
    "    # compute and fill lists\n",
    "    for i in range(time):\n",
    "        x.append(x[i] + (f(x[i],y[i])) * dt)\n",
    "        y.append(y[i] + (g(x[i],y[i])) * dt)\n",
    "    return x, y\n",
    "\n",
    "integrate_system(10, 2, 0.01, 1000)\n",
    "\n",
    "# Write plotting code here\n",
    "\n"
   ]
  },
  {
   "cell_type": "code",
   "execution_count": null,
   "metadata": {},
   "outputs": [],
   "source": []
  }
 ],
 "metadata": {
  "kernelspec": {
   "display_name": "Python 3",
   "language": "python",
   "name": "python3"
  },
  "language_info": {
   "codemirror_mode": {
    "name": "ipython",
    "version": 3
   },
   "file_extension": ".py",
   "mimetype": "text/x-python",
   "name": "python",
   "nbconvert_exporter": "python",
   "pygments_lexer": "ipython3",
   "version": "3.7.0"
  }
 },
 "nbformat": 4,
 "nbformat_minor": 1
}
